{
 "cells": [
  {
   "cell_type": "code",
   "execution_count": 1,
   "metadata": {},
   "outputs": [],
   "source": [
    "import networkx as nx\n",
    "import matplotlib.pyplot as plt"
   ]
  },
  {
   "cell_type": "code",
   "execution_count": 2,
   "metadata": {},
   "outputs": [],
   "source": [
    "# Load the GML file\n",
    "gml_file = 'youtube_cyberbullying_graph.gml'\n",
    "G = nx.read_gml(gml_file)"
   ]
  },
  {
   "cell_type": "code",
   "execution_count": 3,
   "metadata": {},
   "outputs": [],
   "source": [
    "# Function to plot the graph with centrality measures\n",
    "def plot_graph_with_centrality(G, centrality_dict, centrality_name):\n",
    "    plt.figure(figsize=(12, 12))\n",
    "    pos = nx.spring_layout(G, seed=42)  # Use spring layout for visualization\n",
    "    \n",
    "    # Normalize centrality values for scaling node sizes\n",
    "    centrality_values = list(centrality_dict.values())\n",
    "    node_sizes = [1000 * (value / max(centrality_values)) for value in centrality_values]\n",
    "    \n",
    "    # Draw nodes and edges\n",
    "    nx.draw_networkx_nodes(G, pos, node_size=node_sizes, node_color=\"skyblue\", alpha=0.7)\n",
    "    nx.draw_networkx_edges(G, pos, edge_color=\"gray\", alpha=0.5)\n",
    "    \n",
    "    # Optionally, add labels for top nodes\n",
    "    top_nodes = sorted(centrality_dict.items(), key=lambda x: x[1], reverse=True)[:5]\n",
    "    nx.draw_networkx_labels(G, pos, labels={node: f\"{node}\" for node, _ in top_nodes}, font_size=10)\n",
    "    \n",
    "    plt.title(f\"Graph Visualization with {centrality_name}\")\n",
    "    plt.axis(\"off\")\n",
    "    plt.show()"
   ]
  },
  {
   "cell_type": "code",
   "execution_count": 4,
   "metadata": {},
   "outputs": [],
   "source": [
    "# Compute centrality measures\n",
    "pr = nx.pagerank(G, alpha=0.8)\n",
    "degree_centrality = nx.degree_centrality(G)\n",
    "closeness_centrality = nx.closeness_centrality(G)\n",
    "betweenness_centrality = nx.betweenness_centrality(G)\n"
   ]
  },
  {
   "cell_type": "code",
   "execution_count": 5,
   "metadata": {},
   "outputs": [],
   "source": [
    "# Compute eigenvector centrality with increased iterations and tolerance\n",
    "try:\n",
    "    eigenvector_centrality = nx.eigenvector_centrality(G, max_iter=1000, tol=1e-06)\n",
    "except nx.PowerIterationFailedConvergence:\n",
    "    print(\"\\nEigenvector centrality failed to converge. Skipping visualization.\")\n",
    "    eigenvector_centrality = {}"
   ]
  },
  {
   "cell_type": "code",
   "execution_count": null,
   "metadata": {},
   "outputs": [],
   "source": [
    "# Visualize the graph for each centrality measure\n",
    "plot_graph_with_centrality(G, pr, \"PageRank\")\n",
    "plot_graph_with_centrality(G, degree_centrality, \"Degree Centrality\")\n",
    "plot_graph_with_centrality(G, closeness_centrality, \"Closeness Centrality\")\n",
    "plot_graph_with_centrality(G, betweenness_centrality, \"Betweenness Centrality\")\n"
   ]
  },
  {
   "cell_type": "code",
   "execution_count": null,
   "metadata": {},
   "outputs": [],
   "source": [
    "if eigenvector_centrality:\n",
    "    plot_graph_with_centrality(G, eigenvector_centrality, \"Eigenvector Centrality\")"
   ]
  }
 ],
 "metadata": {
  "kernelspec": {
   "display_name": "Python 3",
   "language": "python",
   "name": "python3"
  },
  "language_info": {
   "codemirror_mode": {
    "name": "ipython",
    "version": 3
   },
   "file_extension": ".py",
   "mimetype": "text/x-python",
   "name": "python",
   "nbconvert_exporter": "python",
   "pygments_lexer": "ipython3",
   "version": "3.12.8"
  }
 },
 "nbformat": 4,
 "nbformat_minor": 2
}
