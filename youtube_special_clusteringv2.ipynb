{
 "cells": [
  {
   "cell_type": "code",
   "execution_count": 1,
   "metadata": {},
   "outputs": [],
   "source": [
    "import networkx as nx\n",
    "import pandas as pd\n",
    "import numpy as np\n",
    "import matplotlib.pyplot as plt\n",
    "from sklearn.cluster import SpectralClustering\n",
    "from sklearn.preprocessing import StandardScaler, normalize\n",
    "from sklearn.metrics import silhouette_score\n",
    "from sklearn.decomposition import PCA"
   ]
  },
  {
   "cell_type": "code",
   "execution_count": 2,
   "metadata": {},
   "outputs": [],
   "source": [
    "# Step 1: Load the Graph from the GML File\n",
    "gml_file = 'youtube_cyberbullying_graph.gml'\n",
    "G = nx.read_gml(gml_file)"
   ]
  },
  {
   "cell_type": "code",
   "execution_count": 3,
   "metadata": {},
   "outputs": [],
   "source": [
    "# Step 2: Convert the Graph into an Adjacency Matrix\n",
    "A = nx.adjacency_matrix(G).toarray()  # Adjacency matrix for clustering"
   ]
  },
  {
   "cell_type": "code",
   "execution_count": 4,
   "metadata": {},
   "outputs": [],
   "source": [
    "# Step 3: Preprocessing the Data for Clustering\n",
    "# Scaling the Data\n",
    "scaler = StandardScaler()\n",
    "X_scaled = scaler.fit_transform(A)\n",
    "\n",
    "# Normalizing the Data\n",
    "X_normalized = normalize(X_scaled)\n",
    "\n",
    "# Reducing the dimensions of the data using PCA for visualization\n",
    "pca = PCA(n_components=2)\n",
    "X_principal = pca.fit_transform(X_normalized)\n",
    "X_principal = pd.DataFrame(X_principal, columns=['P1', 'P2'])"
   ]
  },
  {
   "cell_type": "code",
   "execution_count": null,
   "metadata": {},
   "outputs": [
    {
     "name": "stderr",
     "output_type": "stream",
     "text": [
      "C:\\Users\\penda\\AppData\\Local\\Packages\\PythonSoftwareFoundation.Python.3.12_qbz5n2kfra8p0\\LocalCache\\local-packages\\Python312\\site-packages\\sklearn\\cluster\\_spectral.py:702: UserWarning: The spectral clustering API has changed. ``fit``now constructs an affinity matrix from data. To use a custom affinity matrix, set ``affinity=precomputed``.\n",
      "  warnings.warn(\n"
     ]
    }
   ],
   "source": [
    "# Step 4: Apply Spectral Clustering with 'rbf' Affinity\n",
    "spectral_model_rbf = SpectralClustering(n_clusters=3, affinity='rbf', random_state=42)\n",
    "labels_rbf = spectral_model_rbf.fit_predict(A)\n",
    "\n",
    "# Visualize the clustering with 'rbf'\n",
    "plt.scatter(X_principal['P1'], X_principal['P2'], c=labels_rbf, cmap=plt.cm.viridis)\n",
    "plt.title(\"Spectral Clustering with RBF Affinity\")\n",
    "plt.colorbar(label=\"Cluster\")\n",
    "plt.xlabel(\"Principal Component 1\")\n",
    "plt.ylabel(\"Principal Component 2\")\n",
    "plt.show()"
   ]
  },
  {
   "cell_type": "code",
   "execution_count": null,
   "metadata": {},
   "outputs": [],
   "source": [
    "# Step 5: Apply Spectral Clustering with 'nearest_neighbors' Affinity\n",
    "spectral_model_nn = SpectralClustering(n_clusters=3, affinity='nearest_neighbors', random_state=42)\n",
    "labels_nn = spectral_model_nn.fit_predict(A)"
   ]
  },
  {
   "cell_type": "code",
   "execution_count": null,
   "metadata": {},
   "outputs": [],
   "source": [
    "# Visualize the clustering with 'nearest_neighbors'\n",
    "plt.scatter(X_principal['P1'], X_principal['P2'], c=labels_nn, cmap=plt.cm.viridis)\n",
    "plt.title(\"Spectral Clustering with Nearest Neighbors Affinity\")\n",
    "plt.colorbar(label=\"Cluster\")\n",
    "plt.xlabel(\"Principal Component 1\")\n",
    "plt.ylabel(\"Principal Component 2\")\n",
    "plt.show()"
   ]
  },
  {
   "cell_type": "code",
   "execution_count": null,
   "metadata": {},
   "outputs": [],
   "source": [
    "# Step 6: Evaluate and Compare the Models using Silhouette Score\n",
    "# Compute Silhouette Scores\n",
    "s_scores = []\n",
    "s_scores.append(silhouette_score(A, labels_rbf, metric='euclidean'))\n",
    "s_scores.append(silhouette_score(A, labels_nn, metric='euclidean'))\n",
    "\n",
    "# Plotting the comparison\n",
    "affinity = ['rbf', 'nearest_neighbors']\n",
    "plt.bar(affinity, s_scores, color=['blue', 'green'])\n",
    "plt.xlabel('Affinity')\n",
    "plt.ylabel('Silhouette Score')\n",
    "plt.title('Comparison of Spectral Clustering Models')\n",
    "plt.show()\n",
    "\n",
    "# Print Silhouette Scores\n",
    "print(\"Silhouette Scores:\", s_scores)"
   ]
  },
  {
   "cell_type": "code",
   "execution_count": null,
   "metadata": {},
   "outputs": [],
   "source": [
    "# Step 7: Save Cluster Assignments for Further Analysis\n",
    "cluster_assignments = pd.DataFrame({\n",
    "    'Node': list(G.nodes()),\n",
    "    'RBF_Cluster': labels_rbf,\n",
    "    'NN_Cluster': labels_nn\n",
    "})\n",
    "cluster_assignments.to_csv('spectral_clustering_assignments.csv', index=False)\n",
    "print(\"Cluster assignments saved to 'spectral_clustering_assignments.csv'\")"
   ]
  },
  {
   "cell_type": "code",
   "execution_count": null,
   "metadata": {},
   "outputs": [],
   "source": []
  }
 ],
 "metadata": {
  "kernelspec": {
   "display_name": "Python 3",
   "language": "python",
   "name": "python3"
  },
  "language_info": {
   "codemirror_mode": {
    "name": "ipython",
    "version": 3
   },
   "file_extension": ".py",
   "mimetype": "text/x-python",
   "name": "python",
   "nbconvert_exporter": "python",
   "pygments_lexer": "ipython3",
   "version": "3.12.8"
  }
 },
 "nbformat": 4,
 "nbformat_minor": 2
}
